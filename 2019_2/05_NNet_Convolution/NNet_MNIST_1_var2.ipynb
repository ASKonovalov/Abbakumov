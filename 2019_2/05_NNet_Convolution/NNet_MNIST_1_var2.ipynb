{
 "cells": [
  {
   "cell_type": "code",
   "execution_count": 6,
   "metadata": {},
   "outputs": [],
   "source": [
    "#  MNIST анализируется стандартной Feed Forward NNet\n",
    "#  http://www.machinelearningtutorial.net/2016/12/24/python-keras-mnist/\n",
    "\n",
    "#  Активируем библиотеки\n",
    "from __future__ import print_function   #  ????????\n",
    "import numpy as np\n",
    "\n",
    "from keras.datasets import mnist\n",
    "from keras.models import Sequential\n",
    "from keras.layers.core import Dense, Dropout, Activation\n",
    "from keras.optimizers import SGD, Adam, RMSprop\n",
    "from keras.utils import np_utils"
   ]
  },
  {
   "cell_type": "code",
   "execution_count": 7,
   "metadata": {},
   "outputs": [],
   "source": [
    "#  Задаем параметры сети\n",
    "\n",
    "batch_size = 128\n",
    "nr_classes = 10\n",
    "nr_iterations = 20"
   ]
  },
  {
   "cell_type": "code",
   "execution_count": 8,
   "metadata": {},
   "outputs": [],
   "source": [
    "#  Читаем данные\n",
    "\n",
    "(X_train, y_train), (X_test, y_test) = mnist.load_data()"
   ]
  },
  {
   "cell_type": "code",
   "execution_count": 9,
   "metadata": {},
   "outputs": [],
   "source": [
    "#  картинку вытягиваем в столбец\n",
    "#  Информация о взаимном расположении теряется (не совсем)\n",
    "\n",
    "X_train = X_train.reshape(60000, 784)\n",
    "X_test = X_test.reshape(10000, 784)"
   ]
  },
  {
   "cell_type": "code",
   "execution_count": 10,
   "metadata": {},
   "outputs": [],
   "source": [
    "#  Уточняем тип данных\n",
    "\n",
    "X_train = X_train.astype('float32')\n",
    "X_test = X_test.astype('float32')\n",
    "\n",
    "#  Нормируем входные значения\n",
    "X_train /= 255\n",
    "X_test /= 255"
   ]
  },
  {
   "cell_type": "code",
   "execution_count": 11,
   "metadata": {},
   "outputs": [],
   "source": [
    "#  Делаем 10 бинарных столбцов (так как 10 цифр)\n",
    "\n",
    "Y_train = np_utils.to_categorical(y_train, nr_classes)\n",
    "Y_test = np_utils.to_categorical(y_test, nr_classes)"
   ]
  },
  {
   "cell_type": "code",
   "execution_count": 12,
   "metadata": {},
   "outputs": [],
   "source": [
    "#  Описываем сеть. Один внутренний слой\n",
    "\n",
    "model = Sequential()\n",
    "model.add(Dense(196, input_shape=(784,), activation='relu'  ))\n",
    "model.add(Dropout(0.5))\n",
    "model.add(Dense(10, activation='softmax'))\n",
    "\n"
   ]
  },
  {
   "cell_type": "code",
   "execution_count": 7,
   "metadata": {},
   "outputs": [],
   "source": [
    "#   Другой вариант записи модели\n",
    "\n",
    "#   model = Sequential()\n",
    "#   model.add(Dense(196, input_shape=(784,)))\n",
    "#   model.add(Activation('relu'))\n",
    "#   model.add(Dropout(0.5))\n",
    "#   model.add(Dense(10))\n",
    "#   model.add(Activation('softmax'))\n"
   ]
  },
  {
   "cell_type": "code",
   "execution_count": null,
   "metadata": {},
   "outputs": [],
   "source": []
  },
  {
   "cell_type": "code",
   "execution_count": 8,
   "metadata": {},
   "outputs": [
    {
     "name": "stdout",
     "output_type": "stream",
     "text": [
      "_________________________________________________________________\n",
      "Layer (type)                 Output Shape              Param #   \n",
      "=================================================================\n",
      "dense_1 (Dense)              (None, 196)               153860    \n",
      "_________________________________________________________________\n",
      "activation_1 (Activation)    (None, 196)               0         \n",
      "_________________________________________________________________\n",
      "dropout_1 (Dropout)          (None, 196)               0         \n",
      "_________________________________________________________________\n",
      "dense_2 (Dense)              (None, 10)                1970      \n",
      "_________________________________________________________________\n",
      "activation_2 (Activation)    (None, 10)                0         \n",
      "=================================================================\n",
      "Total params: 155,830\n",
      "Trainable params: 155,830\n",
      "Non-trainable params: 0\n",
      "_________________________________________________________________\n"
     ]
    }
   ],
   "source": [
    "#  Проверяем себя\n",
    "\n",
    "model.summary()"
   ]
  },
  {
   "cell_type": "code",
   "execution_count": 13,
   "metadata": {},
   "outputs": [],
   "source": [
    "#  Определяем параметры обучения\n",
    "\n",
    "model.compile(loss='categorical_crossentropy',\n",
    "              optimizer=Adam(),\n",
    "              metrics=['accuracy'])"
   ]
  },
  {
   "cell_type": "code",
   "execution_count": null,
   "metadata": {},
   "outputs": [],
   "source": []
  },
  {
   "cell_type": "code",
   "execution_count": 14,
   "metadata": {},
   "outputs": [
    {
     "name": "stderr",
     "output_type": "stream",
     "text": [
      "C:\\Users\\USER\\Anaconda3\\lib\\site-packages\\ipykernel_launcher.py:6: UserWarning: The `nb_epoch` argument in `fit` has been renamed `epochs`.\n",
      "  \n"
     ]
    },
    {
     "name": "stdout",
     "output_type": "stream",
     "text": [
      "Train on 60000 samples, validate on 10000 samples\n",
      "Epoch 1/20\n",
      "60000/60000 [==============================] - 5s 89us/step - loss: 0.4338 - acc: 0.8724 - val_loss: 0.1918 - val_acc: 0.9431\n",
      "Epoch 2/20\n",
      "60000/60000 [==============================] - 5s 80us/step - loss: 0.2232 - acc: 0.9348 - val_loss: 0.1398 - val_acc: 0.9574\n",
      "Epoch 3/20\n",
      "60000/60000 [==============================] - 5s 85us/step - loss: 0.1756 - acc: 0.9482 - val_loss: 0.1131 - val_acc: 0.9662\n",
      "Epoch 4/20\n",
      "60000/60000 [==============================] - 5s 87us/step - loss: 0.1480 - acc: 0.9564 - val_loss: 0.0986 - val_acc: 0.9711\n",
      "Epoch 5/20\n",
      "60000/60000 [==============================] - 5s 86us/step - loss: 0.1324 - acc: 0.9604 - val_loss: 0.0877 - val_acc: 0.9756\n",
      "Epoch 6/20\n",
      "60000/60000 [==============================] - 5s 80us/step - loss: 0.1189 - acc: 0.9644 - val_loss: 0.0836 - val_acc: 0.9746\n",
      "Epoch 7/20\n",
      "60000/60000 [==============================] - 5s 80us/step - loss: 0.1081 - acc: 0.9672 - val_loss: 0.0759 - val_acc: 0.9768\n",
      "Epoch 8/20\n",
      "60000/60000 [==============================] - 5s 80us/step - loss: 0.0993 - acc: 0.9697 - val_loss: 0.0748 - val_acc: 0.9783\n",
      "Epoch 9/20\n",
      "60000/60000 [==============================] - 5s 81us/step - loss: 0.0932 - acc: 0.9712 - val_loss: 0.0720 - val_acc: 0.9782\n",
      "Epoch 10/20\n",
      "60000/60000 [==============================] - 5s 82us/step - loss: 0.0900 - acc: 0.9722 - val_loss: 0.0713 - val_acc: 0.9783\n",
      "Epoch 11/20\n",
      "60000/60000 [==============================] - 5s 81us/step - loss: 0.0839 - acc: 0.9738 - val_loss: 0.0688 - val_acc: 0.9787\n",
      "Epoch 12/20\n",
      "60000/60000 [==============================] - 5s 80us/step - loss: 0.0776 - acc: 0.9749 - val_loss: 0.0672 - val_acc: 0.9795\n",
      "Epoch 13/20\n",
      "60000/60000 [==============================] - 5s 84us/step - loss: 0.0734 - acc: 0.9765 - val_loss: 0.0650 - val_acc: 0.9798\n",
      "Epoch 14/20\n",
      "60000/60000 [==============================] - 5s 88us/step - loss: 0.0723 - acc: 0.9771 - val_loss: 0.0667 - val_acc: 0.9804\n",
      "Epoch 15/20\n",
      "60000/60000 [==============================] - 6s 99us/step - loss: 0.0712 - acc: 0.9777 - val_loss: 0.0661 - val_acc: 0.9806\n",
      "Epoch 16/20\n",
      "60000/60000 [==============================] - 5s 91us/step - loss: 0.0674 - acc: 0.9784 - val_loss: 0.0635 - val_acc: 0.9816\n",
      "Epoch 17/20\n",
      "60000/60000 [==============================] - 5s 88us/step - loss: 0.0638 - acc: 0.9798 - val_loss: 0.0653 - val_acc: 0.9806\n",
      "Epoch 18/20\n",
      "60000/60000 [==============================] - 5s 87us/step - loss: 0.0622 - acc: 0.9798 - val_loss: 0.0670 - val_acc: 0.9798\n",
      "Epoch 19/20\n",
      "60000/60000 [==============================] - 5s 87us/step - loss: 0.0596 - acc: 0.9807 - val_loss: 0.0651 - val_acc: 0.9811\n",
      "Epoch 20/20\n",
      "60000/60000 [==============================] - 5s 88us/step - loss: 0.0585 - acc: 0.9802 - val_loss: 0.0657 - val_acc: 0.9821\n"
     ]
    }
   ],
   "source": [
    "np.random.seed(1337)  # для воспроизводимости сети\n",
    "\n",
    "\n",
    "net_res_1 = model.fit(X_train, Y_train,\n",
    "                    batch_size = batch_size, nb_epoch = nr_iterations,\n",
    "                    verbose = 1, validation_data = (X_test, Y_test))\n"
   ]
  },
  {
   "cell_type": "code",
   "execution_count": 11,
   "metadata": {},
   "outputs": [
    {
     "name": "stdout",
     "output_type": "stream",
     "text": [
      "[0.06493950138890069, 0.9821]\n"
     ]
    }
   ],
   "source": [
    "score = model.evaluate(X_test, Y_test, verbose = 0)\n",
    "print(score)"
   ]
  },
  {
   "cell_type": "code",
   "execution_count": null,
   "metadata": {},
   "outputs": [],
   "source": []
  },
  {
   "cell_type": "code",
   "execution_count": null,
   "metadata": {},
   "outputs": [],
   "source": []
  },
  {
   "cell_type": "code",
   "execution_count": 12,
   "metadata": {},
   "outputs": [],
   "source": []
  },
  {
   "cell_type": "code",
   "execution_count": 13,
   "metadata": {},
   "outputs": [],
   "source": []
  },
  {
   "cell_type": "code",
   "execution_count": null,
   "metadata": {},
   "outputs": [],
   "source": []
  },
  {
   "cell_type": "code",
   "execution_count": null,
   "metadata": {},
   "outputs": [],
   "source": []
  },
  {
   "cell_type": "code",
   "execution_count": null,
   "metadata": {},
   "outputs": [],
   "source": []
  },
  {
   "cell_type": "code",
   "execution_count": null,
   "metadata": {},
   "outputs": [],
   "source": []
  },
  {
   "cell_type": "code",
   "execution_count": null,
   "metadata": {},
   "outputs": [],
   "source": []
  },
  {
   "cell_type": "code",
   "execution_count": null,
   "metadata": {},
   "outputs": [],
   "source": []
  }
 ],
 "metadata": {
  "kernelspec": {
   "display_name": "Python 3",
   "language": "python",
   "name": "python3"
  },
  "language_info": {
   "codemirror_mode": {
    "name": "ipython",
    "version": 3
   },
   "file_extension": ".py",
   "mimetype": "text/x-python",
   "name": "python",
   "nbconvert_exporter": "python",
   "pygments_lexer": "ipython3",
   "version": "3.6.5"
  }
 },
 "nbformat": 4,
 "nbformat_minor": 2
}
